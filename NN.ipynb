{
 "cells": [
  {
   "cell_type": "code",
   "execution_count": 1,
   "metadata": {},
   "outputs": [],
   "source": [
    "import numpy as np\n",
    "from src.layers import Dense\n",
    "from src.activation import*"
   ]
  },
  {
   "cell_type": "code",
   "execution_count": 2,
   "metadata": {},
   "outputs": [
    {
     "name": "stdout",
     "output_type": "stream",
     "text": [
      "[[-0.00087396  0.00158421 -0.03496327  0.01879274 -0.01468428  0.02567762]\n",
      " [-0.00522689  0.01003351 -0.00179186  0.00158223 -0.00830216 -0.01954025]\n",
      " [ 0.01292915 -0.02309928  0.01236699 -0.01429889  0.00593462 -0.0132764 ]]\n"
     ]
    }
   ],
   "source": [
    "# input data ( X ) with 3 samples(batch size ) and 4 features(inputs) per sample  - shape(3,4)\n",
    "X = np.matrix([ [-0.05693121,  0.02699044, -0.04668455, -0.14169061],\n",
    "                   [ 0.08689635,  0.02768719, -0.09711046,  0.03148172],\n",
    "                    [ 0.08215857,  0.00052926,  0.08005648,  0.00782602]]   )\n",
    "layer1 = Dense(4,6)\n",
    "layer2 = Dense(6,3)\n",
    "layer1.forward(X)\n",
    "layer2.forward(layer1.output)\n",
    "print(layer1.output)"
   ]
  },
  {
   "cell_type": "code",
   "execution_count": 3,
   "metadata": {},
   "outputs": [],
   "source": [
    "X = np.matrix([ [-0.05693121,  0.02699044, -0.04668455, -0.14169061],\n",
    "                   [ 0.08689635,  0.02768719, -0.09711046,  0.03148172],\n",
    "                    [ 0.08215857,  0.00052926,  0.08005648,  0.00782602]]   )\n",
    "\n",
    "\n",
    "    "
   ]
  }
 ],
 "metadata": {
  "kernelspec": {
   "display_name": "pytorchEnv",
   "language": "python",
   "name": "python3"
  },
  "language_info": {
   "codemirror_mode": {
    "name": "ipython",
    "version": 3
   },
   "file_extension": ".py",
   "mimetype": "text/x-python",
   "name": "python",
   "nbconvert_exporter": "python",
   "pygments_lexer": "ipython3",
   "version": "3.12.4"
  }
 },
 "nbformat": 4,
 "nbformat_minor": 2
}
